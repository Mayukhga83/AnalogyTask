{
 "cells": [
  {
   "cell_type": "code",
   "execution_count": null,
   "id": "6fd3fa4b-dbff-4a75-87f6-2e2cf2e576be",
   "metadata": {},
   "outputs": [],
   "source": [
    "from openai import OpenAI\n",
    "\n",
    "client = OpenAI(\n",
    "    api_key= \"Your api key\",  \n",
    ")"
   ]
  },
  {
   "cell_type": "code",
   "execution_count": null,
   "id": "3a3be197-325a-4661-90a6-26ed05477c43",
   "metadata": {},
   "outputs": [],
   "source": [
    "def chat_output(prompt, model= \"gpt-4o-mini\"):\n",
    "    \n",
    "    chat_completion = client.chat.completions.create(\n",
    "        messages=[\n",
    "            {\"role\": \"system\", \"content\": \"You are an assistant that can solve 4-way multiple-choice SAT analogy task \"},\n",
    "            {\"role\": \"user\", \"content\": f\"{prompt}\"}\n",
    "        ],\n",
    "        model=model,\n",
    "    )\n",
    "    ans = chat_completion.choices[0].message.content # Extract generation\n",
    "    return ans"
   ]
  },
  {
   "cell_type": "code",
   "execution_count": null,
   "id": "cde3279e-03a8-4151-9cdd-80f26a40ca3c",
   "metadata": {},
   "outputs": [],
   "source": [
    "def solve_analogy(input_data):\n",
    "    # The first pair in the input_data is the stem\n",
    "    stem_pair = input_data[0]\n",
    "    target_pairs = input_data[1:]\n",
    "\n",
    "    stemtext = f\"Stem Pair: {stem_pair}\\n\"\n",
    "    instruction = \"Which one among the following targets best matches the stem ? only one option is correct.\\n\"\n",
    "    target_text = f\"1. {target_pairs[0]}\\n2. {target_pairs[1]}\\n3. {target_pairs[2]}\\n4. {target_pairs[3]}\\n5. {target_pairs[4]}\\n\"\n",
    "    return_ans = \"return the target pair only and no other text\"\n",
    "\n",
    "    prompt = stemtext + instruction + target_text + return_ans\n",
    "    return prompt"
   ]
  },
  {
   "cell_type": "code",
   "execution_count": null,
   "id": "cb998c59-06ca-4792-b166-a811c37052d9",
   "metadata": {},
   "outputs": [],
   "source": []
  },
  {
   "cell_type": "code",
   "execution_count": null,
   "id": "afaf2b61-fd42-4428-ba1c-c10a5201d838",
   "metadata": {},
   "outputs": [],
   "source": []
  },
  {
   "cell_type": "code",
   "execution_count": null,
   "id": "858206a2-f65d-4984-96a7-7d1338f54d29",
   "metadata": {},
   "outputs": [],
   "source": [
    "###  Run Generations for entire dataset ###\n",
    "import json\n",
    "with open(\"Data/capitals.json\", \"r\")as  f:\n",
    "    data= json.load(f)    "
   ]
  },
  {
   "cell_type": "code",
   "execution_count": null,
   "id": "ecfd8698-3760-4d96-a889-122e953b4e29",
   "metadata": {},
   "outputs": [],
   "source": [
    "keys = [x for x in data.keys()]"
   ]
  },
  {
   "cell_type": "code",
   "execution_count": null,
   "id": "14fcba3f-1bb9-4cb8-8ff9-48c1c7b52200",
   "metadata": {},
   "outputs": [],
   "source": [
    "out = {}\n",
    "for key in keys:\n",
    "    batch = []\n",
    "    for sample in data[key]:\n",
    "        ans = chat_output(solve_analogy(sample),  model= \"gpt-4\")\n",
    "        ans = get_correct_structure(ans)\n",
    "        batch.append([sample, ans])\n",
    "    out[key] = batch\n",
    "        "
   ]
  },
  {
   "cell_type": "code",
   "execution_count": null,
   "id": "7a1aa238-faf6-4683-ab79-62e573eb6a0b",
   "metadata": {},
   "outputs": [],
   "source": []
  },
  {
   "cell_type": "code",
   "execution_count": null,
   "id": "33938722-9628-463d-9359-5bf7f443fc51",
   "metadata": {},
   "outputs": [],
   "source": []
  },
  {
   "cell_type": "code",
   "execution_count": null,
   "id": "99fba963-7d73-48c5-be10-e91f6a52dfde",
   "metadata": {},
   "outputs": [],
   "source": []
  },
  {
   "cell_type": "code",
   "execution_count": null,
   "id": "424b2226-6376-4f15-a28a-a04e8b75b68d",
   "metadata": {},
   "outputs": [],
   "source": []
  },
  {
   "cell_type": "code",
   "execution_count": null,
   "id": "0e0cd0f9-c6b1-4300-a812-afb3e30967b6",
   "metadata": {},
   "outputs": [],
   "source": []
  },
  {
   "cell_type": "code",
   "execution_count": null,
   "id": "96852d63-a4de-416a-9fff-522a86b8dabb",
   "metadata": {},
   "outputs": [],
   "source": []
  },
  {
   "cell_type": "code",
   "execution_count": null,
   "id": "f6dc781a-991e-4313-9f65-385bce8df186",
   "metadata": {},
   "outputs": [],
   "source": []
  },
  {
   "cell_type": "code",
   "execution_count": null,
   "id": "95c107e0-a1d1-4d2f-af2d-3d5df7063fea",
   "metadata": {},
   "outputs": [],
   "source": []
  },
  {
   "cell_type": "code",
   "execution_count": null,
   "id": "ba095bf1-58af-4aa8-b558-80099d0caa00",
   "metadata": {},
   "outputs": [],
   "source": []
  },
  {
   "cell_type": "code",
   "execution_count": null,
   "id": "f6c9f9c2-3fdf-4096-bf5a-8603ff3cac11",
   "metadata": {},
   "outputs": [],
   "source": []
  },
  {
   "cell_type": "code",
   "execution_count": null,
   "id": "71b1071c-aee9-4546-9204-135247d372c6",
   "metadata": {},
   "outputs": [],
   "source": []
  },
  {
   "cell_type": "code",
   "execution_count": null,
   "id": "9941427c-46c3-4739-989a-31cfa70ca412",
   "metadata": {},
   "outputs": [],
   "source": []
  },
  {
   "cell_type": "code",
   "execution_count": null,
   "id": "37e5d09a-879b-4fb8-8b6e-172204d452ff",
   "metadata": {},
   "outputs": [],
   "source": []
  },
  {
   "cell_type": "code",
   "execution_count": null,
   "id": "dc8b5c7f-42fc-44db-8ca0-309418eeefef",
   "metadata": {},
   "outputs": [],
   "source": []
  },
  {
   "cell_type": "code",
   "execution_count": null,
   "id": "878048c1-3701-44fc-b2fa-9bbe60f7e916",
   "metadata": {},
   "outputs": [],
   "source": []
  },
  {
   "cell_type": "code",
   "execution_count": null,
   "id": "711c72ff-7bdf-4511-a750-cccd88a5e1d5",
   "metadata": {},
   "outputs": [],
   "source": []
  },
  {
   "cell_type": "code",
   "execution_count": null,
   "id": "782ffc13-cf0e-40c8-984a-cc1e50cb35f4",
   "metadata": {},
   "outputs": [],
   "source": []
  }
 ],
 "metadata": {
  "kernelspec": {
   "display_name": "Python 3 (ipykernel)",
   "language": "python",
   "name": "python3"
  },
  "language_info": {
   "codemirror_mode": {
    "name": "ipython",
    "version": 3
   },
   "file_extension": ".py",
   "mimetype": "text/x-python",
   "name": "python",
   "nbconvert_exporter": "python",
   "pygments_lexer": "ipython3",
   "version": "3.13.0"
  }
 },
 "nbformat": 4,
 "nbformat_minor": 5
}
